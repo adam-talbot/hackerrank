{
 "cells": [
  {
   "cell_type": "code",
   "execution_count": 17,
   "id": "76637ea6-60b9-42b9-be39-cb006e558963",
   "metadata": {},
   "outputs": [
    {
     "name": "stdin",
     "output_type": "stream",
     "text": [
      " 5\n",
      " 1 2 3 4 5\n"
     ]
    }
   ],
   "source": [
    "n = int(input())\n",
    "arr = map(int, input().split())"
   ]
  },
  {
   "cell_type": "code",
   "execution_count": 18,
   "id": "7e230fa7-9da5-4884-881b-3efd16e8519b",
   "metadata": {},
   "outputs": [],
   "source": [
    "scores = list(arr)"
   ]
  },
  {
   "cell_type": "code",
   "execution_count": 19,
   "id": "5e2f630d-b409-45ea-9c19-db58ab726843",
   "metadata": {},
   "outputs": [
    {
     "data": {
      "text/plain": [
       "[1, 2, 3, 4, 5]"
      ]
     },
     "execution_count": 19,
     "metadata": {},
     "output_type": "execute_result"
    }
   ],
   "source": [
    "scores"
   ]
  },
  {
   "cell_type": "code",
   "execution_count": 22,
   "id": "e50d875a-f7b0-44c8-9f0b-d25e8a3b14c4",
   "metadata": {},
   "outputs": [],
   "source": [
    "scores.sort(reverse=True)"
   ]
  },
  {
   "cell_type": "code",
   "execution_count": 23,
   "id": "86851751-cc3a-4c64-ab0a-63c9a02f359f",
   "metadata": {},
   "outputs": [
    {
     "data": {
      "text/plain": [
       "[5, 4, 3, 2, 1]"
      ]
     },
     "execution_count": 23,
     "metadata": {},
     "output_type": "execute_result"
    }
   ],
   "source": [
    "scores"
   ]
  },
  {
   "cell_type": "code",
   "execution_count": 24,
   "id": "bd3fffe7-4681-4460-a44b-a0caab50b6ef",
   "metadata": {},
   "outputs": [
    {
     "data": {
      "text/plain": [
       "4"
      ]
     },
     "execution_count": 24,
     "metadata": {},
     "output_type": "execute_result"
    }
   ],
   "source": [
    "scores[1]"
   ]
  },
  {
   "cell_type": "code",
   "execution_count": 25,
   "id": "d46aa4bc-8059-433c-a237-890f84f28d43",
   "metadata": {},
   "outputs": [
    {
     "data": {
      "text/plain": [
       "2"
      ]
     },
     "execution_count": 25,
     "metadata": {},
     "output_type": "execute_result"
    }
   ],
   "source": [
    "scores[-2]"
   ]
  },
  {
   "cell_type": "code",
   "execution_count": 27,
   "id": "a340e1fc-4d81-4dd9-94ec-402acc69a4c8",
   "metadata": {},
   "outputs": [],
   "source": [
    "test = [1,2,3,4,4]"
   ]
  },
  {
   "cell_type": "code",
   "execution_count": 28,
   "id": "b33bda39-5c18-4ad6-b849-83af09b241ac",
   "metadata": {},
   "outputs": [],
   "source": [
    "test.sort()"
   ]
  },
  {
   "cell_type": "code",
   "execution_count": 29,
   "id": "863f5cc2-2ad8-4a1a-9ef9-693a4cbeea8e",
   "metadata": {},
   "outputs": [
    {
     "data": {
      "text/plain": [
       "[1, 2, 3, 4, 4]"
      ]
     },
     "execution_count": 29,
     "metadata": {},
     "output_type": "execute_result"
    }
   ],
   "source": [
    "test"
   ]
  },
  {
   "cell_type": "code",
   "execution_count": 30,
   "id": "581dd0e5-3608-4501-9d54-d0a502752eaf",
   "metadata": {},
   "outputs": [],
   "source": [
    "test = set(test)"
   ]
  },
  {
   "cell_type": "code",
   "execution_count": 31,
   "id": "e099ee71-9b1a-40c7-aa53-650d7032214c",
   "metadata": {},
   "outputs": [
    {
     "data": {
      "text/plain": [
       "{1, 2, 3, 4}"
      ]
     },
     "execution_count": 31,
     "metadata": {},
     "output_type": "execute_result"
    }
   ],
   "source": [
    "test"
   ]
  },
  {
   "cell_type": "code",
   "execution_count": 33,
   "id": "a64c3dc6-cad5-4fae-9795-726033088cad",
   "metadata": {},
   "outputs": [],
   "source": [
    "test = list(test)"
   ]
  },
  {
   "cell_type": "code",
   "execution_count": 34,
   "id": "bbcbf5c6-161e-4640-8f3c-95afbfe27bff",
   "metadata": {},
   "outputs": [
    {
     "data": {
      "text/plain": [
       "[1, 2, 3, 4]"
      ]
     },
     "execution_count": 34,
     "metadata": {},
     "output_type": "execute_result"
    }
   ],
   "source": [
    "test"
   ]
  },
  {
   "cell_type": "code",
   "execution_count": 35,
   "id": "cbce5c37-2d58-485a-9dc0-f8b2b9e66ca0",
   "metadata": {},
   "outputs": [
    {
     "data": {
      "text/plain": [
       "3"
      ]
     },
     "execution_count": 35,
     "metadata": {},
     "output_type": "execute_result"
    }
   ],
   "source": [
    "test[-2]"
   ]
  },
  {
   "cell_type": "code",
   "execution_count": 45,
   "id": "fe844bd2-0a0d-4933-9f9b-b0b4ca2d6b55",
   "metadata": {},
   "outputs": [
    {
     "name": "stdin",
     "output_type": "stream",
     "text": [
      " 4\n",
      " 5 5 4 2 3\n"
     ]
    }
   ],
   "source": [
    "n = int(input())\n",
    "arr = map(int, input().split())"
   ]
  },
  {
   "cell_type": "code",
   "execution_count": 46,
   "id": "a2a20de0-cc91-44b1-87f6-d8fff638962f",
   "metadata": {},
   "outputs": [],
   "source": [
    "first = set(arr)"
   ]
  },
  {
   "cell_type": "code",
   "execution_count": 47,
   "id": "50eeb7c2-94ee-47f8-be0d-e63916d9c6d9",
   "metadata": {},
   "outputs": [
    {
     "data": {
      "text/plain": [
       "{2, 3, 4, 5}"
      ]
     },
     "execution_count": 47,
     "metadata": {},
     "output_type": "execute_result"
    }
   ],
   "source": [
    "first"
   ]
  },
  {
   "cell_type": "code",
   "execution_count": 48,
   "id": "ba593de0-99e3-4022-9833-ef20c9a2a9e4",
   "metadata": {},
   "outputs": [],
   "source": [
    "second = list(first)"
   ]
  },
  {
   "cell_type": "code",
   "execution_count": 49,
   "id": "049f3bbc-f6fa-4ef0-bff2-f45a06c06938",
   "metadata": {},
   "outputs": [
    {
     "data": {
      "text/plain": [
       "[2, 3, 4, 5]"
      ]
     },
     "execution_count": 49,
     "metadata": {},
     "output_type": "execute_result"
    }
   ],
   "source": [
    "second"
   ]
  },
  {
   "cell_type": "code",
   "execution_count": 50,
   "id": "516065bf-0e19-4710-9f5b-992e226dc654",
   "metadata": {},
   "outputs": [
    {
     "data": {
      "text/plain": [
       "4"
      ]
     },
     "execution_count": 50,
     "metadata": {},
     "output_type": "execute_result"
    }
   ],
   "source": [
    "second[-2]"
   ]
  },
  {
   "cell_type": "code",
   "execution_count": 14,
   "id": "eed0d907-4d65-4709-967c-5c6aaa87ee12",
   "metadata": {},
   "outputs": [],
   "source": [
    "input = \"insert 3 1\""
   ]
  },
  {
   "cell_type": "code",
   "execution_count": 16,
   "id": "fa87139d-15f5-4a15-b418-cde5165855a6",
   "metadata": {},
   "outputs": [],
   "source": [
    "method,*l=input.split()"
   ]
  },
  {
   "cell_type": "code",
   "execution_count": 17,
   "id": "88e5857e-de35-4937-9e37-95c4b38044c6",
   "metadata": {},
   "outputs": [
    {
     "data": {
      "text/plain": [
       "'insert'"
      ]
     },
     "execution_count": 17,
     "metadata": {},
     "output_type": "execute_result"
    }
   ],
   "source": [
    "method"
   ]
  },
  {
   "cell_type": "code",
   "execution_count": 18,
   "id": "6e37621c-3eb5-466c-a061-4a64c000ce5b",
   "metadata": {},
   "outputs": [
    {
     "data": {
      "text/plain": [
       "['3', '1']"
      ]
     },
     "execution_count": 18,
     "metadata": {},
     "output_type": "execute_result"
    }
   ],
   "source": [
    "l"
   ]
  },
  {
   "cell_type": "code",
   "execution_count": 19,
   "id": "26a143df-0b18-4589-9a26-5628c95132ac",
   "metadata": {},
   "outputs": [
    {
     "data": {
      "text/plain": [
       "['insert', '3', '1']"
      ]
     },
     "execution_count": 19,
     "metadata": {},
     "output_type": "execute_result"
    }
   ],
   "source": [
    "input.split()"
   ]
  },
  {
   "cell_type": "code",
   "execution_count": 20,
   "id": "48bd5b3b-7cf0-46f6-a9c9-cae3f4448f2e",
   "metadata": {},
   "outputs": [],
   "source": [
    "set1 = (1, 2, 3, 4)"
   ]
  },
  {
   "cell_type": "code",
   "execution_count": 22,
   "id": "c05256a1-97d2-42dd-9d25-8ea601873a26",
   "metadata": {},
   "outputs": [],
   "source": [
    "var1, var2, *var3 = set1"
   ]
  },
  {
   "cell_type": "code",
   "execution_count": 23,
   "id": "e0cc01ca-130f-4be4-9400-456ac0a55704",
   "metadata": {},
   "outputs": [
    {
     "data": {
      "text/plain": [
       "1"
      ]
     },
     "execution_count": 23,
     "metadata": {},
     "output_type": "execute_result"
    }
   ],
   "source": [
    "var1"
   ]
  },
  {
   "cell_type": "code",
   "execution_count": 24,
   "id": "6432824b-f8ee-43bc-897f-5ebd38123482",
   "metadata": {},
   "outputs": [
    {
     "data": {
      "text/plain": [
       "2"
      ]
     },
     "execution_count": 24,
     "metadata": {},
     "output_type": "execute_result"
    }
   ],
   "source": [
    "var2"
   ]
  },
  {
   "cell_type": "code",
   "execution_count": 25,
   "id": "ef403c24-14f0-4fe2-88d8-951814ff7436",
   "metadata": {},
   "outputs": [
    {
     "data": {
      "text/plain": [
       "[3, 4]"
      ]
     },
     "execution_count": 25,
     "metadata": {},
     "output_type": "execute_result"
    }
   ],
   "source": [
    "var3"
   ]
  },
  {
   "cell_type": "markdown",
   "id": "a551700e-4477-4eed-a70a-0c7a558f6a66",
   "metadata": {},
   "source": [
    "---\n",
    "## "
   ]
  }
 ],
 "metadata": {
  "kernelspec": {
   "display_name": "Python 3",
   "language": "python",
   "name": "python3"
  },
  "language_info": {
   "codemirror_mode": {
    "name": "ipython",
    "version": 3
   },
   "file_extension": ".py",
   "mimetype": "text/x-python",
   "name": "python",
   "nbconvert_exporter": "python",
   "pygments_lexer": "ipython3",
   "version": "3.8.8"
  }
 },
 "nbformat": 4,
 "nbformat_minor": 5
}
